{
 "cells": [
  {
   "cell_type": "code",
   "execution_count": null,
   "metadata": {},
   "outputs": [],
   "source": [
    "import torch\n",
    "import numpy as np\n",
    "import matplotlib.pyplot as plt\n",
    "import seaborn as sns\n",
    "import torch.nn as nn"
   ]
  },
  {
   "cell_type": "code",
   "execution_count": null,
   "metadata": {},
   "outputs": [],
   "source": [
    "class resNet(nn.Module) :\n",
    "    def __init__(self, nin, nout) :\n",
    "        super().__init__()\n",
    "        self.nin = nin\n",
    "        self.nout = nout\n",
    "        self.Layer1 = nn.Linear(nin, 15)\n",
    "        self.Layer2 = nn.Linear(15, 15)\n",
    "        self.Layer3 = nn.Linear(15, nout)\n",
    "\n",
    "    def forward(self, tX) :\n",
    "        x = self.Layer1(tX)\n",
    "        x = torch.relu(x)\n",
    "        x = self.Layer2(x)\n",
    "        x = torch.relu(x)\n",
    "        x = self.Layer3(x)\n",
    "        return x\n",
    "    \n",
    "    def zero_grad(self, set_to_none: bool = False) -> None:\n",
    "        return super().zero_grad(set_to_none)\n",
    "    \n",
    "    def set_params(self, param_list):\n",
    "        for p1, p2 in zip(list(self.parameters()), param_list) :\n",
    "            p1.data = p2\n",
    "        return self"
   ]
  },
  {
   "cell_type": "code",
   "execution_count": null,
   "metadata": {},
   "outputs": [],
   "source": [
    "# Definition de la fonction de test\n",
    "def f(x, sigma):\n",
    "    epsilon = np.random.randn(*x.shape) * sigma\n",
    "    return 10*np.sin(2*np.pi*x) + epsilon\n",
    "\n",
    "# Paramétrage des données d'entrainements\n",
    "train_size = 100\n",
    "noise = 0.1\n",
    "# Pour sin\n",
    "xmin = -0.5\n",
    "xmax = 0.5\n",
    "\n",
    "zoomfig = 2\n",
    "xminBig = xmin - zoomfig * (xmax - xmin)\n",
    "xmaxBig = xmax + zoomfig * (xmax - xmin)\n",
    "\n",
    "XBig = np.linspace(xminBig, xmaxBig, train_size * (2 * zoomfig + 1)).reshape(-1, 1)\n",
    "X = XBig[train_size * zoomfig : train_size * zoomfig + train_size]\n",
    "# X = np.linspace(-np.pi, np.pi, train_size).reshape(-1, 1)\n",
    "\n",
    "\n",
    "y = f(X, sigma=noise)\n",
    "y_true = f(X, sigma=0.0)\n",
    "\n",
    "# On affiche tout ça\n",
    "plt.scatter(X, y, marker='+', label='Données', color = 'k')\n",
    "plt.plot(X, y_true, label='Vraie fonction', color = 'orange')\n",
    "plt.legend()\n",
    "plt.show()"
   ]
  },
  {
   "cell_type": "code",
   "execution_count": null,
   "metadata": {},
   "outputs": [],
   "source": [
    "tX = torch.Tensor(X)\n",
    "tXBig = torch.Tensor(XBig)\n",
    "ty = torch.Tensor(y)\n",
    "\n",
    "print(\"tX.shape : \", tX.shape)\n",
    "print(\"tXBig.shape : \", tXBig.shape)\n",
    "print(\"ty.shape : \", ty.shape)"
   ]
  },
  {
   "cell_type": "code",
   "execution_count": null,
   "metadata": {},
   "outputs": [],
   "source": [
    "# Hypperparamètres\n",
    "N = 20000\n",
    "ns = [1, 15, 15, 1]\n",
    "nbParams = 2 * (len(ns) - 1)"
   ]
  },
  {
   "cell_type": "code",
   "execution_count": null,
   "metadata": {},
   "outputs": [],
   "source": [
    "thetas = []\n",
    "for idxList in range(N) : \n",
    "    idxParam = 0\n",
    "\n",
    "    param = []\n",
    "    for idxParam in range(nbParams) :\n",
    "        f = open(\"../data_prepare/sinParams/{}_{}.pt\".format(idxList, idxParam), \"rb\")\n",
    "        param.append(torch.load(f))\n",
    "        f.close()\n",
    "    \n",
    "    thetas.append(param)"
   ]
  },
  {
   "cell_type": "code",
   "execution_count": null,
   "metadata": {},
   "outputs": [],
   "source": [
    "myModel = resNet(1, 1)"
   ]
  },
  {
   "cell_type": "code",
   "execution_count": null,
   "metadata": {},
   "outputs": [],
   "source": [
    "y_hats = torch.concatenate(\n",
    "            tuple([myModel.set_params(theta).forward(tX) for theta in thetas]), 1)\n",
    "\n",
    "\n",
    "q2_5 = y_hats.quantile(0.025, 1).reshape(-1,1).detach().numpy()\n",
    "q97_5 = y_hats.quantile(0.975, 1).reshape(-1,1).detach().numpy()\n",
    "q25 = y_hats.quantile(0.25, 1).reshape(-1,1).detach().numpy()\n",
    "q75 = y_hats.quantile(0.75, 1).reshape(-1,1).detach().numpy()\n",
    "med = y_hats.quantile(0.5, 1).reshape(-1,1).detach().numpy()\n",
    "\n",
    "plt.clf()\n",
    "\n",
    "\n",
    "plt.fill_between(tX.ravel().numpy(), q2_5[:, 0],\n",
    "                 q97_5[:, 0], color=\"#e8e8e8\", label='95%')\n",
    "\n",
    "plt.fill_between(tX.ravel().numpy(), q25[:, 0], q75[:, 0],\n",
    "                 color=\"#bfbfbf\", label='50%')\n",
    "\n",
    "plt.plot(tX, med, label=\"mediane\", color=\"#8c0e11\")\n",
    "\n",
    "plt.scatter(tX,ty, marker='+', color='k', label='Données')\n",
    "\n",
    "plt.legend()\n",
    "plt.show()\n"
   ]
  },
  {
   "cell_type": "code",
   "execution_count": null,
   "metadata": {},
   "outputs": [],
   "source": [
    "thetaRavel = torch.concatenate(tuple([torch.concatenate(tuple([p.ravel() for p in theta])).reshape(-1,1) for theta in thetas]), 1)"
   ]
  },
  {
   "cell_type": "code",
   "execution_count": null,
   "metadata": {},
   "outputs": [],
   "source": [
    "thetaRavel"
   ]
  },
  {
   "cell_type": "code",
   "execution_count": null,
   "metadata": {},
   "outputs": [],
   "source": [
    "indices = np.random.sample(10)\n",
    "indices\n"
   ]
  },
  {
   "cell_type": "code",
   "execution_count": null,
   "metadata": {},
   "outputs": [],
   "source": [
    "for k in range(thetaRavel.shape[0]) :\n",
    "    plt.figure()\n",
    "    sns.histplot(thetaRavel[k,:].detach().numpy(), kde = True, fill = False)\n",
    "    plt.grid('on')\n",
    "    plt.ylabel(None)"
   ]
  },
  {
   "cell_type": "code",
   "execution_count": null,
   "metadata": {},
   "outputs": [],
   "source": [
    "plt.figure()\n",
    "s = 0\n",
    "d = 1\n",
    "sns.jointplot(x = thetaRavel[s,:].detach().numpy(), y = thetaRavel[d,:].detach().numpy(), kind='kde', fill=True)\n",
    "plt.show()"
   ]
  },
  {
   "cell_type": "code",
   "execution_count": null,
   "metadata": {},
   "outputs": [],
   "source": [
    "y_hats = torch.concatenate(\n",
    "            tuple([myModel.set_params(theta).forward(tXBig) for theta in thetas]), 1)\n"
   ]
  },
  {
   "cell_type": "code",
   "execution_count": null,
   "metadata": {},
   "outputs": [],
   "source": [
    "middle = torch.argmin(torch.abs(tXBig))\n",
    "left = middle + 100\n",
    "sns.histplot(y_hats[middle + 1,:].detach().numpy(), kde = True, label = 'x : {:2f}'.format(tXBig[middle+1][0]), fill = None)\n",
    "sns.histplot(y_hats[left,:].detach().numpy(), kde = True, label = 'x : {:2f}'.format(tXBig[left][0]), fill = None)\n",
    "plt.ylabel(None)\n",
    "plt.legend()"
   ]
  }
 ],
 "metadata": {
  "kernelspec": {
   "display_name": ".venv",
   "language": "python",
   "name": "python3"
  },
  "language_info": {
   "codemirror_mode": {
    "name": "ipython",
    "version": 3
   },
   "file_extension": ".py",
   "mimetype": "text/x-python",
   "name": "python",
   "nbconvert_exporter": "python",
   "pygments_lexer": "ipython3",
   "version": "3.11.1"
  },
  "orig_nbformat": 4
 },
 "nbformat": 4,
 "nbformat_minor": 2
}
