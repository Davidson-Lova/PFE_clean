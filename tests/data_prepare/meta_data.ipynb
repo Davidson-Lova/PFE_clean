{
 "cells": [
  {
   "attachments": {},
   "cell_type": "markdown",
   "metadata": {},
   "source": [
    "The `Aircraft_01_dask.h5` file has \n",
    "+ 1001 partitions (i.e. flights)\n",
    "+ 55 columns (parameters) per partitions"
   ]
  },
  {
   "attachments": {},
   "cell_type": "markdown",
   "metadata": {},
   "source": [
    "+ `ALT [ft]`\n",
    "+ `EGT_1 [deg C]`\n",
    "+ `EGT_2 [deg C]`\n",
    "+ `FMV_1 [mm]`\n",
    "\n",
    "+ `FMV_2 [mm]`\n",
    "+ `HPTACC_1 [%]`\n",
    "+ `HPTACC_2 [%]`\n",
    "+ `M [Mach]`\n",
    "\n",
    "+ `N1_1 [% rpm]`\n",
    "+ `N1_2 [% rpm]`\n",
    "+ `N2_1 [% rpm]`\n",
    "+ `N2_2 [% rpm]`\n",
    "\n",
    "+ `NAIV_1 [bool]`\n",
    "+ `NAIV_2 [bool]`\n",
    "+ `P0_1 [psia]`\n",
    "+ `P0_2 [psia]`\n",
    "\n",
    "+ `PRV_1 [bool]`\n",
    "+ `PRV_2 [bool]`\n",
    "+ `PS3_1 [psia]`\n",
    "+ `PS3_2 [psia]`\n",
    "\n",
    "+ `PT2_1 [mbar]`\n",
    "+ `PT2_2 [mbar]`\n",
    "+ `P_OIL_1 [psi]`\n",
    "+ `P_OIL_2 [psi]`\n",
    "\n",
    "+ `Q_1 [lb/h]`\n",
    "+ `Q_2 [lb/h]`\n",
    "+ `T1_1 [deg C]`\n",
    "+ `T1_2 [deg C]`\n",
    "\n",
    "+ `T2_1 [deg C]`\n",
    "+ `T2_2 [deg C]`\n",
    "+ `T3_1 [deg C]`\n",
    "+ `T3_2 [deg C]`\n",
    "\n",
    "+ `T5_1 [deg C]`\n",
    "+ `T5_2 [deg C]`\n",
    "+ `TAT [deg C]`\n",
    "+ `TBV_1 [%]`\n",
    "+ `TBV_2 [%]`\n",
    "\n",
    "+ `TCASE_1 [deg C]`\n",
    "+ `TCASE_2 [deg C]`\n",
    "+ `TLA_1 [deg]`\n",
    "+ `TLA_2 [deg]`\n",
    "\n",
    "+ `T_OIL_1 [deg C]`\n",
    "+ `T_OIL_2 [deg C]`\n",
    "+ `VBV_1 [mm]`\n",
    "+ `VBV_2 [mm]`\n",
    "\n",
    "+ `VIB_AN1_1 [mils]`\n",
    "+ `VIB_AN1_2 [mils]`\n",
    "+ `VIB_AN2_1 [ips]`\n",
    "\n",
    "+ `VIB_AN2_2 [ips]`\n",
    "+ `VIB_BN1_1 [mils]`\n",
    "+ `VIB_BN1_2 [mils]`\n",
    "\n",
    "+ `VIB_BN2_1 [ips]`\n",
    "+ `VIB_BN2_2 [ips]`\n",
    "+ `VSV_1 [mm]`\n",
    "+ `VSV_2 [mm]`"
   ]
  },
  {
   "attachments": {},
   "cell_type": "markdown",
   "metadata": {},
   "source": [
    "## Repartitions of the number of entries per partition\n",
    "\n",
    "<img title=\"repartitions des nombres de colonnes\" src=\"output.png\">"
   ]
  },
  {
   "attachments": {},
   "cell_type": "markdown",
   "metadata": {},
   "source": [
    "Variables of interest :\n",
    "+ N2 [% rpm]\n",
    "+ N1_1 [% rpm]\n",
    "+ T1_1 [deg C]\n",
    "+ ALT [ft]\n",
    "+ M [Mach]\n",
    "\n",
    "Using the last four, we try to predict the first one.\n"
   ]
  }
 ],
 "metadata": {
  "language_info": {
   "name": "python"
  },
  "orig_nbformat": 4
 },
 "nbformat": 4,
 "nbformat_minor": 2
}
